{
  "cells": [
    {
      "cell_type": "markdown",
      "metadata": {},
      "source": [
        "# Vehicle Registration Data Exploration\n",
        "\n",
        "This notebook is for exploring the vehicle registration data schema and testing queries.\n"
      ]
    },
    {
      "cell_type": "code",
      "execution_count": null,
      "metadata": {},
      "outputs": [],
      "source": [
        "import pandas as pd\n",
        "import os\n",
        "import sqlite3\n",
        "from pathlib import Path\n",
        "\n",
        "# Set up paths\n",
        "data_dir = Path('../data')\n",
        "db_path = Path('../db/vehicles.db')\n",
        "\n",
        "# List all CSV files\n",
        "csv_files = list(data_dir.glob('*.csv'))\n",
        "print(f\"Found {len(csv_files)} CSV files:\")\n",
        "for file in csv_files:\n",
        "    print(f\"  - {file.name}\")\n",
        "\n",
        "# Load and explore the first file to understand structure\n",
        "print(\"\\n\" + \"=\"*50)\n",
        "print(\"EXPLORING FIRST FILE STRUCTURE\")\n",
        "print(\"=\"*50)\n",
        "\n",
        "df_sample = pd.read_csv(csv_files[0], nrows=5)  # Load just first 5 rows\n",
        "print(f\"File: {csv_files[0].name}\")\n",
        "print(f\"Shape: {df_sample.shape}\")\n",
        "print(f\"Columns: {list(df_sample.columns)}\")\n",
        "print(\"\\nFirst few rows:\")\n",
        "print(df_sample.head())\n",
        "print(f\"\\nData types:\")\n",
        "print(df_sample.dtypes)\n"
      ]
    },
    {
      "cell_type": "code",
      "execution_count": null,
      "metadata": {},
      "outputs": [],
      "source": [
        "# Compare column structures across all files\n",
        "print(\"=\"*50)\n",
        "print(\"COMPARING COLUMN STRUCTURES\")\n",
        "print(\"=\"*50)\n",
        "\n",
        "column_analysis = {}\n",
        "for file in csv_files:\n",
        "    df_temp = pd.read_csv(file, nrows=1)  # Just headers\n",
        "    column_analysis[file.name] = list(df_temp.columns)\n",
        "    print(f\"{file.name}: {len(df_temp.columns)} columns\")\n",
        "\n",
        "# Check if all files have the same columns\n",
        "all_columns = set()\n",
        "for columns in column_analysis.values():\n",
        "    all_columns.update(columns)\n",
        "\n",
        "print(f\"\\nTotal unique columns across all files: {len(all_columns)}\")\n",
        "print(\"All columns:\", sorted(all_columns))\n",
        "\n",
        "# Check for differences\n",
        "print(\"\\nColumn differences between files:\")\n",
        "for file, columns in column_analysis.items():\n",
        "    missing = all_columns - set(columns)\n",
        "    extra = set(columns) - all_columns\n",
        "    if missing or extra:\n",
        "        print(f\"{file}:\")\n",
        "        if missing:\n",
        "            print(f\"  Missing: {missing}\")\n",
        "        if extra:\n",
        "            print(f\"  Extra: {extra}\")\n",
        "    else:\n",
        "        print(f\"{file}: ✓ All columns match\")\n"
      ]
    },
    {
      "cell_type": "code",
      "execution_count": null,
      "metadata": {},
      "outputs": [],
      "source": [
        "# Check data quality issues\n",
        "print(\"=\"*50)\n",
        "print(\"DATA QUALITY ANALYSIS\")\n",
        "print(\"=\"*50)\n",
        "\n",
        "# Load a sample from each file to check for issues\n",
        "for file in csv_files[:2]:  # Check first 2 files\n",
        "    print(f\"\\nAnalyzing {file.name}:\")\n",
        "    df_temp = pd.read_csv(file, nrows=1000)  # Sample 1000 rows\n",
        "    \n",
        "    print(f\"  Shape: {df_temp.shape}\")\n",
        "    print(f\"  Missing values per column:\")\n",
        "    missing = df_temp.isnull().sum()\n",
        "    for col, count in missing.items():\n",
        "        if count > 0:\n",
        "            print(f\"    {col}: {count} ({count/len(df_temp)*100:.1f}%)\")\n",
        "    \n",
        "    # Check for potential date columns\n",
        "    date_cols = [col for col in df_temp.columns if any(word in col.lower() for word in ['date', 'time', 'year', 'month'])]\n",
        "    if date_cols:\n",
        "        print(f\"  Potential date columns: {date_cols}\")\n",
        "        for col in date_cols:\n",
        "            print(f\"    {col} sample values: {df_temp[col].head(3).tolist()}\")\n",
        "    \n",
        "    # Check for numeric columns\n",
        "    numeric_cols = df_temp.select_dtypes(include=['number']).columns\n",
        "    if len(numeric_cols) > 0:\n",
        "        print(f\"  Numeric columns: {list(numeric_cols)}\")\n"
      ]
    }
  ],
  "metadata": {
    "kernelspec": {
      "display_name": ".venv",
      "language": "python",
      "name": "python3"
    },
    "language_info": {
      "codemirror_mode": {
        "name": "ipython",
        "version": 3
      },
      "file_extension": ".py",
      "mimetype": "text/x-python",
      "name": "python",
      "nbconvert_exporter": "python",
      "pygments_lexer": "ipython3",
      "version": "3.11.7"
    }
  },
  "nbformat": 4,
  "nbformat_minor": 2
}
